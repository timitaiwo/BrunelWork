{
 "cells": [
  {
   "cell_type": "markdown",
   "id": "3f5a4390",
   "metadata": {},
   "source": []
  },
  {
   "cell_type": "markdown",
   "id": "ac77e8ef",
   "metadata": {},
   "source": [
    "1. real=3.562    imag=5.029"
   ]
  },
  {
   "cell_type": "markdown",
   "id": "28fa1f47",
   "metadata": {},
   "source": [
    "2. λ1 = 25, λ2 = -17, λ3 = 11"
   ]
  },
  {
   "cell_type": "markdown",
   "id": "062f5228",
   "metadata": {},
   "source": [
    "3. max = 1.238; min = -0.190"
   ]
  },
  {
   "cell_type": "markdown",
   "id": "4f852610",
   "metadata": {},
   "source": [
    "4. sum = 220.000; product = 111.000"
   ]
  },
  {
   "cell_type": "markdown",
   "id": "cddb2d01",
   "metadata": {},
   "source": [
    "5. "
   ]
  },
  {
   "cell_type": "markdown",
   "id": "c4fd8a27",
   "metadata": {},
   "source": [
    "6. 2.93×10$^{9}$"
   ]
  },
  {
   "cell_type": "markdown",
   "id": "c6a67a32",
   "metadata": {},
   "source": [
    "7. m = 410.579; c = -6625.938"
   ]
  }
 ],
 "metadata": {
  "kernelspec": {
   "display_name": "Python 3",
   "language": "python",
   "name": "python3"
  },
  "language_info": {
   "codemirror_mode": {
    "name": "ipython",
    "version": 3
   },
   "file_extension": ".py",
   "mimetype": "text/x-python",
   "name": "python",
   "nbconvert_exporter": "python",
   "pygments_lexer": "ipython3",
   "version": "3.8.8"
  }
 },
 "nbformat": 4,
 "nbformat_minor": 5
}
