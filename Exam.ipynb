{
 "cells": [
  {
   "cell_type": "markdown",
   "id": "38dc00bb",
   "metadata": {},
   "source": [
    "**Code Samples**\n",
    "\n",
    "Sample code that explores using scipy and sympy for integration and linear regression"
   ]
  },
  {
   "cell_type": "code",
   "execution_count": null,
   "id": "94a553ed",
   "metadata": {},
   "outputs": [],
   "source": [
    "# Import numpy, pandas, matplotlib.plt and seaborn\n",
    "import numpy as np \n",
    "import pandas as pd\n",
    "import matplotlib.pyplot as plt\n",
    "import seaborn as sns\n",
    "sns.set_theme(style=\"darkgrid\")     # Set the format for diagrams"
   ]
  },
  {
   "cell_type": "code",
   "execution_count": null,
   "id": "ae47494a",
   "metadata": {},
   "outputs": [],
   "source": [
    "# Import integration modules\n",
    "import sympy as sp\n",
    "from scipy.integrate import quad\n",
    "from scipy.integrate import odeint"
   ]
  },
  {
   "cell_type": "code",
   "execution_count": null,
   "id": "c0fa0e47",
   "metadata": {},
   "outputs": [],
   "source": [
    "arr = pd.DataFrame(np.array([\n",
    "[371.0, 393.0],\n",
    "[373.0, 397.0],\n",
    "[379.0, 405.0],\n",
    "[384.0, 417.0],\n",
    "[377.0, 404.0],\n",
    "[356.0, 385.0],\n",
    "[373.0, 402.0],\n",
    "[385.0, 416.0],\n",
    "[381.0, 404.0],\n",
    "[373.0, 395.0]]), columns=[\"x\", \"y\"])"
   ]
  },
  {
   "cell_type": "code",
   "execution_count": null,
   "id": "cc45b415",
   "metadata": {},
   "outputs": [],
   "source": [
    "# Use linregress from scipy.stats to get the slope and intercept\n",
    "# x is the independent variable and y is the dependent variable\n",
    "# stats.linregress(x_and_y[\"x\"], x_and_y[\"y\"])\n",
    "\n",
    "from scipy import stats\n",
    "slope, intercept, r_value, p_value, std_err = stats.linregress(\n",
    "    arr.x, arr.y)\n",
    "slope.round(decimals=4), intercept.round(decimals=5)"
   ]
  },
  {
   "cell_type": "code",
   "execution_count": null,
   "id": "9bac885f",
   "metadata": {},
   "outputs": [],
   "source": [
    "# Normal integraton\n",
    "x = sp.Symbol(\"x\")\n",
    "expression = (1 + 4*x)\n",
    "\n",
    "sp.integrate(expression)"
   ]
  },
  {
   "cell_type": "code",
   "execution_count": null,
   "id": "669df221",
   "metadata": {},
   "outputs": [],
   "source": [
    "# Definite Integration\n",
    "\n",
    "# Create a function that returns the equation you want to integrate\n",
    "def f(x):\n",
    "    return x**2 * (x**3 + 5)**0.5\n",
    "\n",
    "# Define the upper and lower limits of the definite integral\n",
    "upper_limit = 3\n",
    "lower_limit = 0\n",
    "\n",
    "# \n",
    "integral, error = quad(f, lower_limit, upper_limit)    #There are two outputs\n",
    "integral"
   ]
  }
 ],
 "metadata": {
  "kernelspec": {
   "display_name": "Python 3",
   "language": "python",
   "name": "python3"
  },
  "language_info": {
   "codemirror_mode": {
    "name": "ipython",
    "version": 3
   },
   "file_extension": ".py",
   "mimetype": "text/x-python",
   "name": "python",
   "nbconvert_exporter": "python",
   "pygments_lexer": "ipython3",
   "version": "3.8.8"
  }
 },
 "nbformat": 4,
 "nbformat_minor": 5
}
