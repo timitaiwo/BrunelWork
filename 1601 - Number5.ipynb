{
 "cells": [
  {
   "cell_type": "markdown",
   "id": "0407c220",
   "metadata": {},
   "source": [
    "__Number 5__\n",
    "\n",
    "A vector is given. The aim of this question is to ensure that a new vector is gotten that has the same direction as the initial vector but a different magnitude."
   ]
  },
  {
   "cell_type": "code",
   "execution_count": 1,
   "id": "053779da",
   "metadata": {
    "tags": []
   },
   "outputs": [],
   "source": [
    "# Import numpy, pandas, matplotlib.plt and seaborn\n",
    "import numpy as np \n",
    "import pandas as pd\n",
    "import matplotlib.pyplot as plt\n",
    "import seaborn as sns\n",
    "#sns.set_theme(style=\"darkgrid\")     # Set the format for diagrams"
   ]
  },
  {
   "cell_type": "code",
   "execution_count": 2,
   "id": "b7614aa3",
   "metadata": {
    "tags": []
   },
   "outputs": [
    {
     "data": {
      "text/plain": [
       "(array([[21],\n",
       "        [ 1],\n",
       "        [11]]),\n",
       " array([[0.88504448],\n",
       "        [0.04214498],\n",
       "        [0.46359473]]))"
      ]
     },
     "execution_count": 2,
     "metadata": {},
     "output_type": "execute_result"
    }
   ],
   "source": [
    "# Set the values for A, B and C\n",
    "A, B, C = [21, 11, 4]\n",
    "\n",
    "# Vector x is given and the unit vector is gotten by dividing x through by the magnitude of x\n",
    "x = np.array([[A],[1], [B]])\n",
    "unit_vector = x/np.linalg.norm(x)\n",
    "x, unit_vector"
   ]
  },
  {
   "cell_type": "code",
   "execution_count": 3,
   "id": "e8225f07",
   "metadata": {},
   "outputs": [
    {
     "data": {
      "text/plain": [
       "array([[3.54 ],\n",
       "       [0.169],\n",
       "       [1.854]])"
      ]
     },
     "execution_count": 3,
     "metadata": {},
     "output_type": "execute_result"
    }
   ],
   "source": [
    "# Multiply the unit vector by C to get a value equal in magnitude to C\n",
    "vector_with_magnitude_c = C * unit_vector\n",
    "vector_with_magnitude_c.round(decimals=3)"
   ]
  },
  {
   "cell_type": "code",
   "execution_count": 4,
   "id": "74f23f22",
   "metadata": {},
   "outputs": [
    {
     "data": {
      "text/plain": [
       "True"
      ]
     },
     "execution_count": 4,
     "metadata": {},
     "output_type": "execute_result"
    }
   ],
   "source": [
    "# This is to confirm that the new vector has a magnitude of value C\n",
    "np.linalg.norm(vector_with_magnitude_c).round(decimals=4) == C"
   ]
  }
 ],
 "metadata": {
  "kernelspec": {
   "display_name": "Python 3",
   "language": "python",
   "name": "python3"
  },
  "language_info": {
   "codemirror_mode": {
    "name": "ipython",
    "version": 3
   },
   "file_extension": ".py",
   "mimetype": "text/x-python",
   "name": "python",
   "nbconvert_exporter": "python",
   "pygments_lexer": "ipython3",
   "version": "3.8.8"
  }
 },
 "nbformat": 4,
 "nbformat_minor": 5
}
