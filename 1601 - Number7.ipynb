{
 "cells": [
  {
   "cell_type": "markdown",
   "id": "e5033958",
   "metadata": {},
   "source": [
    "__Number 7__\n",
    "\n",
    "Generate the least squares equation for the given values of x and y\n",
    "\n"
   ]
  },
  {
   "cell_type": "code",
   "execution_count": 1,
   "id": "815b1fbf",
   "metadata": {},
   "outputs": [],
   "source": [
    "# Import numpy, pandas, matplotlib.plt and seaborn\n",
    "import numpy as np \n",
    "import pandas as pd\n",
    "import matplotlib.pyplot as plt\n",
    "from scipy import stats\n",
    "import scipy as sp\n",
    "import seaborn as sns\n",
    "sns.set_theme(style=\"darkgrid\")     # Set the format for diagrams"
   ]
  },
  {
   "cell_type": "code",
   "execution_count": 2,
   "id": "a99ecbb8",
   "metadata": {},
   "outputs": [],
   "source": [
    "# Set the values for A, B and C\n",
    "a, b, c = [21, 11, 4]\n",
    "\n",
    "# Set the value for n and import the random numbers generated with MATLAB\n",
    "n=100*b\n",
    "random_numbers = pd.read_csv(\"random_numbers.csv\", header=None).values[:, 0]   # Generated in MATLAB to maintain consistency\n",
    "\n",
    "# Set the values for x and y\n",
    "x = np.array([i for i in np.arange(n)])/11\n",
    "y = (a + b * x + c * x**2 + 10 * b * random_numbers).round(decimals=4)\n",
    "\n",
    "# Put x and y in a DataFrame for simplicity\n",
    "x_and_y = pd.DataFrame((x, y), index=[\"x\", \"y\"]).T"
   ]
  },
  {
   "cell_type": "code",
   "execution_count": 3,
   "id": "12f1bc34",
   "metadata": {},
   "outputs": [
    {
     "data": {
      "text/plain": [
       "(410.5787, -6625.93761)"
      ]
     },
     "execution_count": 3,
     "metadata": {},
     "output_type": "execute_result"
    }
   ],
   "source": [
    "# Use linregress from scipy.stats to get the slope and intercept\n",
    "# x is the independent variable and y is the dependent variable\n",
    "slope, intercept, r_value, p_value, std_err = stats.linregress(x_and_y[\"x\"], x_and_y[\"y\"])\n",
    "slope.round(decimals=4), intercept.round(decimals=5)"
   ]
  },
  {
   "cell_type": "markdown",
   "id": "6438a69f",
   "metadata": {},
   "source": [
    "The equation is y = 410.579x - 6625.938"
   ]
  }
 ],
 "metadata": {
  "kernelspec": {
   "display_name": "Python 3",
   "language": "python",
   "name": "python3"
  },
  "language_info": {
   "codemirror_mode": {
    "name": "ipython",
    "version": 3
   },
   "file_extension": ".py",
   "mimetype": "text/x-python",
   "name": "python",
   "nbconvert_exporter": "python",
   "pygments_lexer": "ipython3",
   "version": "3.8.8"
  }
 },
 "nbformat": 4,
 "nbformat_minor": 5
}
