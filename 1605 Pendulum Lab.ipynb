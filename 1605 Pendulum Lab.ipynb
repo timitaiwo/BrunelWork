{
 "cells": [
  {
   "cell_type": "markdown",
   "id": "activated-encounter",
   "metadata": {},
   "source": [
    "__Pendulum Lab – Timi Taiwo – 2002269 – 01 March 2021__\n",
    "\n",
    "__Introduction:__<br> \n",
    "The aim of the lab is to further understanding of fundamental principles and theories of engineering dynamics through analysing the pendulum. The relationship between the length and angle of rotations of a simple pendulum and it’s period is to be observed experementaly and the data used to prove that string length and acceleration due to gravity affect the period of a simple pendulum. The observed data would also be used to estimate the value of the acceleration due to gravity.\n",
    "\n",
    "__Methodology:__ For each change in the dependent variable, angle (θ) and Length (L), five values of period (T) are taken from which we take the average as the value."
   ]
  },
  {
   "cell_type": "code",
   "execution_count": 1,
   "id": "early-location",
   "metadata": {},
   "outputs": [],
   "source": [
    "# Import numpy, pandas, matplotlib.plt and seaborn\n",
    "import numpy as np \n",
    "import pandas as pd\n",
    "from scipy import stats\n",
    "import matplotlib.pyplot as plt\n",
    "import seaborn as sns\n",
    "sns.set_theme(style=\"darkgrid\")     # Set the format for diagrams"
   ]
  },
  {
   "cell_type": "markdown",
   "id": "pregnant-invasion",
   "metadata": {},
   "source": [
    "__Section 1 - Comparing the value of angle(θ) on Period(T)__"
   ]
  },
  {
   "cell_type": "code",
   "execution_count": 2,
   "id": "immediate-engagement",
   "metadata": {},
   "outputs": [
    {
     "data": {
      "text/html": [
       "<div>\n",
       "<style scoped>\n",
       "    .dataframe tbody tr th:only-of-type {\n",
       "        vertical-align: middle;\n",
       "    }\n",
       "\n",
       "    .dataframe tbody tr th {\n",
       "        vertical-align: top;\n",
       "    }\n",
       "\n",
       "    .dataframe thead th {\n",
       "        text-align: right;\n",
       "    }\n",
       "</style>\n",
       "<table border=\"1\" class=\"dataframe\">\n",
       "  <thead>\n",
       "    <tr style=\"text-align: right;\">\n",
       "      <th></th>\n",
       "      <th>θ</th>\n",
       "      <th>T₁(s)</th>\n",
       "      <th>T₂(s)</th>\n",
       "      <th>T₃(s)</th>\n",
       "      <th>T₄(s)</th>\n",
       "      <th>T₅(s)</th>\n",
       "    </tr>\n",
       "  </thead>\n",
       "  <tbody>\n",
       "    <tr>\n",
       "      <th>0</th>\n",
       "      <td>35</td>\n",
       "      <td>2.1</td>\n",
       "      <td>2.2</td>\n",
       "      <td>2.2</td>\n",
       "      <td>2.0</td>\n",
       "      <td>2.2</td>\n",
       "    </tr>\n",
       "    <tr>\n",
       "      <th>1</th>\n",
       "      <td>55</td>\n",
       "      <td>2.2</td>\n",
       "      <td>2.3</td>\n",
       "      <td>2.1</td>\n",
       "      <td>2.3</td>\n",
       "      <td>2.3</td>\n",
       "    </tr>\n",
       "    <tr>\n",
       "      <th>2</th>\n",
       "      <td>75</td>\n",
       "      <td>2.3</td>\n",
       "      <td>2.3</td>\n",
       "      <td>2.4</td>\n",
       "      <td>2.4</td>\n",
       "      <td>2.3</td>\n",
       "    </tr>\n",
       "  </tbody>\n",
       "</table>\n",
       "</div>"
      ],
      "text/plain": [
       "    θ  T₁(s)  T₂(s)  T₃(s)  T₄(s)  T₅(s)\n",
       "0  35    2.1    2.2    2.2    2.0    2.2\n",
       "1  55    2.2    2.3    2.1    2.3    2.3\n",
       "2  75    2.3    2.3    2.4    2.4    2.3"
      ]
     },
     "execution_count": 2,
     "metadata": {},
     "output_type": "execute_result"
    }
   ],
   "source": [
    "# Record the values gotten from the experiment\n",
    "header1 = [\"θ\", 'T₁(s)', 'T₂(s)', 'T₃(s)', 'T₄(s)', 'T₅(s)']\n",
    "values1 = [[35, 2.1, 2.2, 2.2, 2.0, 2.2], [55, 2.2, 2.3, 2.1, 2.3, 2.3], [75, 2.3, 2.3, 2.4, 2.4, 2.3]]\n",
    "values1 = pd.DataFrame(values1, columns=header1)\n",
    "values1"
   ]
  },
  {
   "cell_type": "code",
   "execution_count": 3,
   "id": "thirty-second",
   "metadata": {},
   "outputs": [
    {
     "data": {
      "text/html": [
       "<div>\n",
       "<style scoped>\n",
       "    .dataframe tbody tr th:only-of-type {\n",
       "        vertical-align: middle;\n",
       "    }\n",
       "\n",
       "    .dataframe tbody tr th {\n",
       "        vertical-align: top;\n",
       "    }\n",
       "\n",
       "    .dataframe thead th {\n",
       "        text-align: right;\n",
       "    }\n",
       "</style>\n",
       "<table border=\"1\" class=\"dataframe\">\n",
       "  <thead>\n",
       "    <tr style=\"text-align: right;\">\n",
       "      <th></th>\n",
       "      <th>θ</th>\n",
       "      <th>T₁(s)</th>\n",
       "      <th>T₂(s)</th>\n",
       "      <th>T₃(s)</th>\n",
       "      <th>T₄(s)</th>\n",
       "      <th>T₅(s)</th>\n",
       "      <th>T(avg)</th>\n",
       "      <th>T(std)</th>\n",
       "    </tr>\n",
       "  </thead>\n",
       "  <tbody>\n",
       "    <tr>\n",
       "      <th>0</th>\n",
       "      <td>35</td>\n",
       "      <td>2.1</td>\n",
       "      <td>2.2</td>\n",
       "      <td>2.2</td>\n",
       "      <td>2.0</td>\n",
       "      <td>2.2</td>\n",
       "      <td>2.14</td>\n",
       "      <td>0.089443</td>\n",
       "    </tr>\n",
       "    <tr>\n",
       "      <th>1</th>\n",
       "      <td>55</td>\n",
       "      <td>2.2</td>\n",
       "      <td>2.3</td>\n",
       "      <td>2.1</td>\n",
       "      <td>2.3</td>\n",
       "      <td>2.3</td>\n",
       "      <td>2.24</td>\n",
       "      <td>0.089443</td>\n",
       "    </tr>\n",
       "    <tr>\n",
       "      <th>2</th>\n",
       "      <td>75</td>\n",
       "      <td>2.3</td>\n",
       "      <td>2.3</td>\n",
       "      <td>2.4</td>\n",
       "      <td>2.4</td>\n",
       "      <td>2.3</td>\n",
       "      <td>2.34</td>\n",
       "      <td>0.054772</td>\n",
       "    </tr>\n",
       "  </tbody>\n",
       "</table>\n",
       "</div>"
      ],
      "text/plain": [
       "    θ  T₁(s)  T₂(s)  T₃(s)  T₄(s)  T₅(s)  T(avg)    T(std)\n",
       "0  35    2.1    2.2    2.2    2.0    2.2    2.14  0.089443\n",
       "1  55    2.2    2.3    2.1    2.3    2.3    2.24  0.089443\n",
       "2  75    2.3    2.3    2.4    2.4    2.3    2.34  0.054772"
      ]
     },
     "execution_count": 3,
     "metadata": {},
     "output_type": "execute_result"
    }
   ],
   "source": [
    "# Get the average value of Period for each angel and the standard deviations\n",
    "values1[\"T(avg)\"] = values1.iloc[:, 1:6].mean(axis=1)\n",
    "values1[\"T(std)\"] = values1.iloc[:, 1:6].std(axis=1)\n",
    "values1"
   ]
  },
  {
   "cell_type": "code",
   "execution_count": 4,
   "id": "driving-basic",
   "metadata": {},
   "outputs": [
    {
     "data": {
      "text/plain": [
       "(0.0050000000000000044, 1.9649999999999994)"
      ]
     },
     "execution_count": 4,
     "metadata": {},
     "output_type": "execute_result"
    }
   ],
   "source": [
    "# Use linregress from stats to get the value of the slope and intercept \n",
    "slope, intercept, r_value, p_value, std_err = stats.linregress(values1[\"θ\"], values1[\"T(avg)\"])\n",
    "slope, intercept"
   ]
  },
  {
   "cell_type": "code",
   "execution_count": 5,
   "id": "olympic-synthetic",
   "metadata": {},
   "outputs": [
    {
     "data": {
      "text/plain": [
       "[]"
      ]
     },
     "execution_count": 5,
     "metadata": {},
     "output_type": "execute_result"
    },
    {
     "data": {
      "image/png": "[encoded data removed]",
      "text/plain": [
       "<Figure size 1080x360 with 1 Axes>"
      ]
     },
     "metadata": {},
     "output_type": "display_data"
    }
   ],
   "source": [
    "# Plot the graphs\n",
    "fig, ax = plt.subplots(figsize=(15, 5))\n",
    "\n",
    "# Plot the graphs\n",
    "sns.lineplot(x=\"θ\", y=\"T(avg)\", data=values1)\n",
    "sns.scatterplot(x=\"θ\", y=\"T(avg)\", data=values1)\n",
    "plt.plot(np.arange(81), slope * np.arange(0, 81) + intercept)  # Plot the line for the Linear regression\n",
    "\n",
    "# Set Limits for the graphs\n",
    "ax.set_ylim(0, 3)\n",
    "ax.set_xlim(0, 80)\n",
    "ax.set_xlabel(\"angle(θ)\")\n",
    "\n",
    "# Plot the graph\n",
    "plt.plot()"
   ]
  },
  {
   "cell_type": "markdown",
   "id": "generic-burning",
   "metadata": {},
   "source": [
    "The value of intercept shows that the minimum value of period is 1.97s (3 sig figures).\n",
    "\n",
    "The slope having a low value of 0.005 means that the impact of the angle of the pendulum on the period is negligible which is consistent with the equation\n",
    "\n",
    "𝑔=4𝜋²𝐿/𝑇²"
   ]
  },
  {
   "cell_type": "markdown",
   "id": "boring-working",
   "metadata": {},
   "source": [
    "__Section 2 - Comparing the effect of length(L) on Period(T)__"
   ]
  },
  {
   "cell_type": "code",
   "execution_count": 6,
   "id": "contained-medium",
   "metadata": {},
   "outputs": [
    {
     "data": {
      "text/html": [
       "<div>\n",
       "<style scoped>\n",
       "    .dataframe tbody tr th:only-of-type {\n",
       "        vertical-align: middle;\n",
       "    }\n",
       "\n",
       "    .dataframe tbody tr th {\n",
       "        vertical-align: top;\n",
       "    }\n",
       "\n",
       "    .dataframe thead th {\n",
       "        text-align: right;\n",
       "    }\n",
       "</style>\n",
       "<table border=\"1\" class=\"dataframe\">\n",
       "  <thead>\n",
       "    <tr style=\"text-align: right;\">\n",
       "      <th></th>\n",
       "      <th>L</th>\n",
       "      <th>T₁(s)</th>\n",
       "      <th>T₂(s)</th>\n",
       "      <th>T₃(s)</th>\n",
       "      <th>T₄(s)</th>\n",
       "      <th>T₅(s)</th>\n",
       "      <th>T(avg)</th>\n",
       "      <th>T²</th>\n",
       "      <th>4π²L</th>\n",
       "    </tr>\n",
       "  </thead>\n",
       "  <tbody>\n",
       "    <tr>\n",
       "      <th>0</th>\n",
       "      <td>0.2</td>\n",
       "      <td>0.9</td>\n",
       "      <td>1.0</td>\n",
       "      <td>0.9</td>\n",
       "      <td>0.9</td>\n",
       "      <td>1.0</td>\n",
       "      <td>0.94</td>\n",
       "      <td>0.8836</td>\n",
       "      <td>7.895684</td>\n",
       "    </tr>\n",
       "    <tr>\n",
       "      <th>1</th>\n",
       "      <td>0.4</td>\n",
       "      <td>1.3</td>\n",
       "      <td>1.4</td>\n",
       "      <td>1.4</td>\n",
       "      <td>1.3</td>\n",
       "      <td>1.3</td>\n",
       "      <td>1.34</td>\n",
       "      <td>1.7956</td>\n",
       "      <td>15.791367</td>\n",
       "    </tr>\n",
       "    <tr>\n",
       "      <th>2</th>\n",
       "      <td>0.6</td>\n",
       "      <td>1.5</td>\n",
       "      <td>1.6</td>\n",
       "      <td>1.6</td>\n",
       "      <td>1.5</td>\n",
       "      <td>1.5</td>\n",
       "      <td>1.54</td>\n",
       "      <td>2.3716</td>\n",
       "      <td>23.687051</td>\n",
       "    </tr>\n",
       "    <tr>\n",
       "      <th>3</th>\n",
       "      <td>0.8</td>\n",
       "      <td>1.8</td>\n",
       "      <td>1.9</td>\n",
       "      <td>1.8</td>\n",
       "      <td>1.7</td>\n",
       "      <td>1.9</td>\n",
       "      <td>1.82</td>\n",
       "      <td>3.3124</td>\n",
       "      <td>31.582734</td>\n",
       "    </tr>\n",
       "    <tr>\n",
       "      <th>4</th>\n",
       "      <td>1.0</td>\n",
       "      <td>2.1</td>\n",
       "      <td>2.0</td>\n",
       "      <td>2.2</td>\n",
       "      <td>2.1</td>\n",
       "      <td>2.1</td>\n",
       "      <td>2.10</td>\n",
       "      <td>4.4100</td>\n",
       "      <td>39.478418</td>\n",
       "    </tr>\n",
       "  </tbody>\n",
       "</table>\n",
       "</div>"
      ],
      "text/plain": [
       "     L  T₁(s)  T₂(s)  T₃(s)  T₄(s)  T₅(s)  T(avg)      T²       4π²L\n",
       "0  0.2    0.9    1.0    0.9    0.9    1.0    0.94  0.8836   7.895684\n",
       "1  0.4    1.3    1.4    1.4    1.3    1.3    1.34  1.7956  15.791367\n",
       "2  0.6    1.5    1.6    1.6    1.5    1.5    1.54  2.3716  23.687051\n",
       "3  0.8    1.8    1.9    1.8    1.7    1.9    1.82  3.3124  31.582734\n",
       "4  1.0    2.1    2.0    2.2    2.1    2.1    2.10  4.4100  39.478418"
      ]
     },
     "execution_count": 6,
     "metadata": {},
     "output_type": "execute_result"
    }
   ],
   "source": [
    "# Record the values gotten from the experiment\n",
    "header2 = ['L', 'T₁(s)', 'T₂(s)', 'T₃(s)', 'T₄(s)', 'T₅(s)']\n",
    "values2 = [[0.2, 0.9, 1.0, 0.9, 0.9, 1.0], [0.4, 1.3, 1.4, 1.4, 1.3, 1.3], [0.6, 1.5, 1.6, 1.6, 1.5, 1.5], \n",
    "           [0.8, 1.8, 1.9, 1.8, 1.7, 1.9], [1.0, 2.1, 2.0, 2.2, 2.1, 2.1]]\n",
    "values2 = pd.DataFrame(values2, columns=header2)\n",
    "\n",
    "#  Get the average value of T, T² and 4π²L\n",
    "values2[\"T(avg)\"] = values2.iloc[:, 1:6].mean(axis=1)\n",
    "values2[\"T²\"] = values2[\"T(avg)\"]**2\n",
    "values2[\"4π²L\"] = 4 * np.pi**2 * values2.L\n",
    "\n",
    "values2"
   ]
  },
  {
   "cell_type": "code",
   "execution_count": 7,
   "id": "cubic-poison",
   "metadata": {},
   "outputs": [
    {
     "data": {
      "text/plain": [
       "(9.12072666907945, 0.38687738471733013)"
      ]
     },
     "execution_count": 7,
     "metadata": {},
     "output_type": "execute_result"
    }
   ],
   "source": [
    "# Use linregress from stats to get the value of the slope and intercept \n",
    "slope, intercept, r_value, p_value, std_err = stats.linregress(values2[\"T²\"], values2[\"4π²L\"])\n",
    "slope, intercept"
   ]
  },
  {
   "cell_type": "code",
   "execution_count": 8,
   "id": "revised-porter",
   "metadata": {},
   "outputs": [
    {
     "data": {
      "text/plain": [
       "[]"
      ]
     },
     "execution_count": 8,
     "metadata": {},
     "output_type": "execute_result"
    },
    {
     "data": {
      "image/png": "[encoded data removed]",
      "text/plain": [
       "<Figure size 1080x360 with 1 Axes>"
      ]
     },
     "metadata": {},
     "output_type": "display_data"
    }
   ],
   "source": [
    "# Plot the graphs\n",
    "fig, ax = plt.subplots(figsize=(15, 5))\n",
    "\n",
    "# Plot the graphs\n",
    "sns.lineplot(x=\"T²\", y=\"4π²L\", data=values2)\n",
    "sns.scatterplot(x=\"T²\", y=\"4π²L\", data=values2)\n",
    "plt.plot(np.arange(6), slope * np.arange(0, 6) + intercept)  # Plot the line for the Linear regression\n",
    "\n",
    "# Set Limits for the graphs\n",
    "ax.set_ylim(0, 50)\n",
    "ax.set_xlim(0, 5.1)\n",
    "\n",
    "# Plot the graph\n",
    "plt.plot()"
   ]
  },
  {
   "cell_type": "markdown",
   "id": "solved-norwegian",
   "metadata": {},
   "source": [
    "Another method to get the value of g is to draw a graph of 4π²L and T² from which the slope would be the value of g. The values for 4π²L and T² are given in Figure 5 and the package used in section 1 is used again.\n",
    "For the slope we get a value of 9.12 with an intercept of 0. Figure 7 shows the relationship between 4π²L and T² and how well the line represents the relationship between both values. Acceleration due to gravity (g) is the slope so we get a value of 9.12ms$^{-1}$ as the acceleration due to gravity.\n",
    "The equation, 4π²L = 9.12 x T², is a close enough fit to represent the relationship between Length, Period and the acceleration due to gravity(g).\n"
   ]
  },
  {
   "cell_type": "markdown",
   "id": "taken-rating",
   "metadata": {},
   "source": [
    "The estimated value 9.12ms$^{-1}$ is 7% lower compared to the accepted value of 9.81 ms$^{-1}$."
   ]
  },
  {
   "cell_type": "code",
   "execution_count": 9,
   "id": "encouraging-christopher",
   "metadata": {},
   "outputs": [
    {
     "name": "stdout",
     "output_type": "stream",
     "text": [
      "The value of g is 9.28288235301487 The standard deviation of g is 0.5016523408716395\n"
     ]
    }
   ],
   "source": [
    "# This section gets the estimated value of acceleration due to gravity\n",
    "\n",
    "l_values = (4 * np.pi**2 * values2.iloc[ : , 0])\n",
    "\n",
    "g_values = pd.DataFrame()\n",
    "g_values[\"L\"] = values2['L']\n",
    "\n",
    "for i in range(6):\n",
    "    if i > 0:\n",
    "        g_values[i] = l_values / (values2.iloc[ : , i])**2\n",
    "\n",
    "g_values.columns= ['L', 'g₁(s)', 'g₂(s)', 'g₃(s)', 'g₄(s)', 'g₅(s)']\n",
    "\n",
    "# Get the average value of Period for each angel and the standard deviations\n",
    "g_values[\"g(avg)\"] = g_values.iloc[:, 1:6].mean(axis=1)\n",
    "g_values[\"g(std)\"] = g_values.iloc[:, 1:6].std(axis=1)\n",
    "values1\n",
    "\n",
    "g_values\n",
    "\n",
    "# Value of g\n",
    "g = g_values[\"g(avg)\"]\n",
    "\n",
    "print(f\"The value of g is {g.mean()}\", f\"The standard deviation of g is {g.std()}\")"
   ]
  },
  {
   "cell_type": "markdown",
   "id": "hungarian-flight",
   "metadata": {},
   "source": [
    "We will take the average of acceleration due to gravity as the average of g(avg) and the standard deviation of acceleration due to gravity average of g(std). The derived value of g is 9.28ms$^{-1}$ and the standard deviation of g is 0.50ms$^{-1}$."
   ]
  },
  {
   "cell_type": "code",
   "execution_count": 10,
   "id": "formed-suggestion",
   "metadata": {},
   "outputs": [
    {
     "data": {
      "text/html": [
       "<div>\n",
       "<style scoped>\n",
       "    .dataframe tbody tr th:only-of-type {\n",
       "        vertical-align: middle;\n",
       "    }\n",
       "\n",
       "    .dataframe tbody tr th {\n",
       "        vertical-align: top;\n",
       "    }\n",
       "\n",
       "    .dataframe thead th {\n",
       "        text-align: right;\n",
       "    }\n",
       "</style>\n",
       "<table border=\"1\" class=\"dataframe\">\n",
       "  <thead>\n",
       "    <tr style=\"text-align: right;\">\n",
       "      <th></th>\n",
       "      <th>L</th>\n",
       "      <th>g₁(s)</th>\n",
       "      <th>g₂(s)</th>\n",
       "      <th>g₃(s)</th>\n",
       "      <th>g₄(s)</th>\n",
       "      <th>g₅(s)</th>\n",
       "      <th>g(avg)</th>\n",
       "      <th>g(std)</th>\n",
       "    </tr>\n",
       "  </thead>\n",
       "  <tbody>\n",
       "    <tr>\n",
       "      <th>0</th>\n",
       "      <td>0.2</td>\n",
       "      <td>9.747757</td>\n",
       "      <td>7.895684</td>\n",
       "      <td>9.747757</td>\n",
       "      <td>9.747757</td>\n",
       "      <td>7.895684</td>\n",
       "      <td>9.006928</td>\n",
       "      <td>1.014423</td>\n",
       "    </tr>\n",
       "    <tr>\n",
       "      <th>1</th>\n",
       "      <td>0.4</td>\n",
       "      <td>9.344004</td>\n",
       "      <td>8.056820</td>\n",
       "      <td>8.056820</td>\n",
       "      <td>9.344004</td>\n",
       "      <td>9.344004</td>\n",
       "      <td>8.829130</td>\n",
       "      <td>0.705020</td>\n",
       "    </tr>\n",
       "    <tr>\n",
       "      <th>2</th>\n",
       "      <td>0.6</td>\n",
       "      <td>10.527578</td>\n",
       "      <td>9.252754</td>\n",
       "      <td>9.252754</td>\n",
       "      <td>10.527578</td>\n",
       "      <td>10.527578</td>\n",
       "      <td>10.017648</td>\n",
       "      <td>0.698250</td>\n",
       "    </tr>\n",
       "    <tr>\n",
       "      <th>3</th>\n",
       "      <td>0.8</td>\n",
       "      <td>9.747757</td>\n",
       "      <td>8.748680</td>\n",
       "      <td>9.747757</td>\n",
       "      <td>10.928282</td>\n",
       "      <td>8.748680</td>\n",
       "      <td>9.584231</td>\n",
       "      <td>0.902254</td>\n",
       "    </tr>\n",
       "    <tr>\n",
       "      <th>4</th>\n",
       "      <td>1.0</td>\n",
       "      <td>8.952022</td>\n",
       "      <td>9.869604</td>\n",
       "      <td>8.156698</td>\n",
       "      <td>8.952022</td>\n",
       "      <td>8.952022</td>\n",
       "      <td>8.976474</td>\n",
       "      <td>0.606529</td>\n",
       "    </tr>\n",
       "  </tbody>\n",
       "</table>\n",
       "</div>"
      ],
      "text/plain": [
       "     L      g₁(s)     g₂(s)     g₃(s)      g₄(s)      g₅(s)     g(avg)  \\\n",
       "0  0.2   9.747757  7.895684  9.747757   9.747757   7.895684   9.006928   \n",
       "1  0.4   9.344004  8.056820  8.056820   9.344004   9.344004   8.829130   \n",
       "2  0.6  10.527578  9.252754  9.252754  10.527578  10.527578  10.017648   \n",
       "3  0.8   9.747757  8.748680  9.747757  10.928282   8.748680   9.584231   \n",
       "4  1.0   8.952022  9.869604  8.156698   8.952022   8.952022   8.976474   \n",
       "\n",
       "     g(std)  \n",
       "0  1.014423  \n",
       "1  0.705020  \n",
       "2  0.698250  \n",
       "3  0.902254  \n",
       "4  0.606529  "
      ]
     },
     "execution_count": 10,
     "metadata": {},
     "output_type": "execute_result"
    }
   ],
   "source": [
    "g_values"
   ]
  },
  {
   "cell_type": "markdown",
   "id": "heated-scientist",
   "metadata": {},
   "source": [
    "__Conclusion and Evaluation__\n",
    "The relationship between the length of a pendulum and the period has been proven while it has been shown that the correlation between the angle of the pendulum and it’s period is weak, this means that it can be be regarded as a constant during calculations\n"
   ]
  }
 ],
 "metadata": {
  "kernelspec": {
   "display_name": "Python 3",
   "language": "python",
   "name": "python3"
  },
  "language_info": {
   "codemirror_mode": {
    "name": "ipython",
    "version": 3
   },
   "file_extension": ".py",
   "mimetype": "text/x-python",
   "name": "python",
   "nbconvert_exporter": "python",
   "pygments_lexer": "ipython3",
   "version": "3.8.8"
  }
 },
 "nbformat": 4,
 "nbformat_minor": 5
}
