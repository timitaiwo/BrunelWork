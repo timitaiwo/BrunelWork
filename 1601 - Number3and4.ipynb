{
 "cells": [
  {
   "cell_type": "markdown",
   "id": "developmental-luther",
   "metadata": {},
   "source": [
    "__Solving Simulaneous equations__\n",
    "\n",
    "Numpy is going to be used to solve the simultaneous equation with form _Mx=f_ where M is the matrix of coefficients, x is the column vector of unknowns and f is the column vector of answers in n question 3.\n",
    "\n",
    "M is a matrix that has 2 across the diagonal with 1 beside each 2. f is a column vector where each row satisfies the equation n2/a [n squared/a] where n is the number of the row.\n",
    "\n",
    "The sum and product of the eigen values of a matrix of the same form is to be gotten using numpy for question 4"
   ]
  },
  {
   "cell_type": "code",
   "execution_count": 1,
   "id": "dependent-official",
   "metadata": {},
   "outputs": [],
   "source": [
    "# Import numpy, pandas, matplotlib.plt and seaborn\n",
    "import numpy as np \n",
    "import pandas as pd\n",
    "from scipy import stats\n",
    "import matplotlib.pyplot as plt\n",
    "import seaborn as sns\n",
    "sns.set_theme(style=\"darkgrid\")     # Set the format for diagrams"
   ]
  },
  {
   "cell_type": "code",
   "execution_count": 2,
   "id": "controlled-consideration",
   "metadata": {},
   "outputs": [],
   "source": [
    "# Define the functions that generate matrix M and column f\n",
    "\n",
    "def generate_matrix(matrix_size):\n",
    "    \"\"\"\n",
    "    Generate a matrix_size by maxtrix_size matrix with 2 as the value across the diagonal \n",
    "    and 1 beside each 2. For example;\n",
    "    \n",
    "    [2., 1., 0.]\n",
    "    [1., 2., 1.]\n",
    "    [0., 1., 2.]\n",
    "    \n",
    "    \"\"\"\n",
    "    matrix = np.diag(2 * np.ones(matrix_size))\n",
    "    size = (np.diag(matrix)).shape[0]\n",
    "\n",
    "    for i in np.arange(size):\n",
    "        if i < size-1:\n",
    "            matrix[i+1,i] = 1\n",
    "            matrix[i,i+1] = 1\n",
    "\n",
    "    return matrix\n",
    "\n",
    "def generate_f(matrix_size, a):\n",
    "    \"\"\"\n",
    "    Generate a column vector where each row satisfies the equation n2/a [n squared/a] where\n",
    "    n is the number of the row and a is a given value\n",
    "    \"\"\"\n",
    "    vector = np.ones(matrix_size).reshape((matrix_size,1))\n",
    "\n",
    "    for i in range(matrix_size):\n",
    "        vector[i] = (i+1)**2\n",
    "\n",
    "    return vector/a\n",
    "\n",
    "def calculate_x(matrix, f_values):\n",
    "    \"\"\"\n",
    "    Use the matrix and f vector to calculate the values of x, i.e the unknowns in the simultaneous\n",
    "    equations, where matrix is the coefficients of the simulateous equation and f is a column vector\n",
    "    of the final values\n",
    "    \"\"\"\n",
    "    matrix_inverse = np.linalg.inv(matrix)\n",
    "    x_values = np.dot(matrix_inverse, f_values)\n",
    "    \n",
    "    return x_values"
   ]
  },
  {
   "cell_type": "code",
   "execution_count": 3,
   "id": "described-nicaragua",
   "metadata": {},
   "outputs": [
    {
     "name": "stdout",
     "output_type": "stream",
     "text": [
      "The maxiumum value in the values of x is 1.238 and the minimum value is -0.19\n"
     ]
    }
   ],
   "source": [
    "# Set the values for A, B and C\n",
    "a, b, c = [21, 11, 4]\n",
    "\n",
    "# Generate the values for M for questions 3 and 4 and f for question 4\n",
    "M_3 = generate_matrix(7)\n",
    "M_4 = generate_matrix(10 * b)\n",
    "\n",
    "f_3 = generate_f(7, a)\n",
    "\n",
    "# Use the values of M and f to calculate the unknowns x in the simultaneous equation\n",
    "x_of_3 = calculate_x(M_3, f_3).round(decimals=3)\n",
    "\n",
    "# Number 3: use numpy to get the maximum and minumum value in the values of x\n",
    "max = np.amax(x_of_3)\n",
    "min = np.amin(x_of_3)\n",
    "\n",
    "print(f\"The maxiumum value in the values of x is {max} and the minimum value is {min}\")"
   ]
  },
  {
   "cell_type": "code",
   "execution_count": 4,
   "id": "disabled-latex",
   "metadata": {},
   "outputs": [
    {
     "name": "stdout",
     "output_type": "stream",
     "text": [
      "The sum of the eigen values is 220.0 and the product of the eigen values is 111.0\n"
     ]
    }
   ],
   "source": [
    "# Number 4: Use numpy to calculate the sum and product of the eigen values of \n",
    "#           the matrix M_4.\n",
    "\n",
    "eig_values, eig_vectors = np.linalg.eig(M_4)\n",
    "\n",
    "sum_of_eig_values = eig_values.sum().round(decimals=3)\n",
    "product_of_eig_values = eig_values.prod().round(decimals=3)\n",
    "\n",
    "print(f\"The sum of the eigen values is {sum_of_eig_values} and the product of the eigen values is {product_of_eig_values}\")"
   ]
  }
 ],
 "metadata": {
  "kernelspec": {
   "display_name": "Python 3",
   "language": "python",
   "name": "python3"
  },
  "language_info": {
   "codemirror_mode": {
    "name": "ipython",
    "version": 3
   },
   "file_extension": ".py",
   "mimetype": "text/x-python",
   "name": "python",
   "nbconvert_exporter": "python",
   "pygments_lexer": "ipython3",
   "version": "3.8.8"
  }
 },
 "nbformat": 4,
 "nbformat_minor": 5
}
